{
 "cells": [
  {
   "cell_type": "code",
   "execution_count": 1,
   "metadata": {},
   "outputs": [],
   "source": [
    "import pandas as pd"
   ]
  },
  {
   "cell_type": "code",
   "execution_count": 3,
   "metadata": {},
   "outputs": [],
   "source": [
    "datasets = {'feb': pd.read_parquet(\"../data_sacheen/azure_aws_failure_descriptions.parquet\"),\n",
    "            'mar3': pd.read_parquet(\"../data_sacheen/azure_aws_gcp_03_03.parquet\"),\n",
    "            'mar24': pd.read_parquet(\"../data_sacheen/cloud_data_with_gcp_loc_march_24.parquet\")}"
   ]
  },
  {
   "cell_type": "markdown",
   "metadata": {},
   "source": [
    "## My deduplication results"
   ]
  },
  {
   "cell_type": "markdown",
   "metadata": {},
   "source": [
    "The `orig` set is the dataset with AWS and Azure, reindexed, with GCP appended:"
   ]
  },
  {
   "cell_type": "code",
   "execution_count": 4,
   "metadata": {
    "jupyter": {
     "source_hidden": true
    }
   },
   "outputs": [
    {
     "data": {
      "text/plain": [
       "vendor\n",
       "AWS      456\n",
       "Azure    287\n",
       "GCP      355\n",
       "dtype: int64"
      ]
     },
     "execution_count": 4,
     "metadata": {},
     "output_type": "execute_result"
    }
   ],
   "source": [
    "orig = pd.read_parquet(\"../data/outages.parquet\")\n",
    "orig.groupby(\"vendor\").size()"
   ]
  },
  {
   "cell_type": "markdown",
   "metadata": {},
   "source": [
    "Only keep events in 2018 and later:"
   ]
  },
  {
   "cell_type": "markdown",
   "metadata": {},
   "source": [
    "The deduplication function:"
   ]
  },
  {
   "cell_type": "code",
   "execution_count": 6,
   "metadata": {},
   "outputs": [],
   "source": [
    "def deduplicate(df):\n",
    "    return df.drop_duplicates(['service_name', 'location', 'event_start_time', 'event_end_time'])"
   ]
  },
  {
   "cell_type": "markdown",
   "metadata": {},
   "source": [
    "My results after deduplication:"
   ]
  },
  {
   "cell_type": "code",
   "execution_count": 14,
   "metadata": {},
   "outputs": [
    {
     "data": {
      "text/plain": [
       "vendor\n",
       "AWS      329\n",
       "Azure    153\n",
       "GCP      279\n",
       "dtype: int64"
      ]
     },
     "execution_count": 14,
     "metadata": {},
     "output_type": "execute_result"
    }
   ],
   "source": [
    "deduped = deduplicate(orig)\n",
    "deduped.groupby(\"vendor\").size()"
   ]
  },
  {
   "cell_type": "markdown",
   "metadata": {},
   "source": [
    "## Comparison of provided datasets"
   ]
  },
  {
   "cell_type": "markdown",
   "metadata": {},
   "source": [
    "The set I'm using for `orig` is the same as the february dataset, just with GCP appended:"
   ]
  },
  {
   "cell_type": "code",
   "execution_count": 6,
   "metadata": {},
   "outputs": [
    {
     "data": {
      "text/plain": [
       "True"
      ]
     },
     "execution_count": 6,
     "metadata": {},
     "output_type": "execute_result"
    }
   ],
   "source": [
    "(orig[orig.vendor.isin(['AWS', 'Azure'])].groupby('vendor').size() \n",
    " == datasets['feb'].groupby('vendor').size()).all()"
   ]
  },
  {
   "cell_type": "markdown",
   "metadata": {},
   "source": [
    "This is how the dataset changed between versions:"
   ]
  },
  {
   "cell_type": "code",
   "execution_count": 7,
   "metadata": {
    "jupyter": {
     "source_hidden": true
    }
   },
   "outputs": [
    {
     "data": {
      "text/html": [
       "<div>\n",
       "<style scoped>\n",
       "    .dataframe tbody tr th:only-of-type {\n",
       "        vertical-align: middle;\n",
       "    }\n",
       "\n",
       "    .dataframe tbody tr th {\n",
       "        vertical-align: top;\n",
       "    }\n",
       "\n",
       "    .dataframe thead th {\n",
       "        text-align: right;\n",
       "    }\n",
       "</style>\n",
       "<table border=\"1\" class=\"dataframe\">\n",
       "  <thead>\n",
       "    <tr style=\"text-align: right;\">\n",
       "      <th></th>\n",
       "      <th>feb</th>\n",
       "      <th>mar3</th>\n",
       "      <th>mar24</th>\n",
       "    </tr>\n",
       "    <tr>\n",
       "      <th>vendor</th>\n",
       "      <th></th>\n",
       "      <th></th>\n",
       "      <th></th>\n",
       "    </tr>\n",
       "  </thead>\n",
       "  <tbody>\n",
       "    <tr>\n",
       "      <th></th>\n",
       "      <td>0</td>\n",
       "      <td>0</td>\n",
       "      <td>1</td>\n",
       "    </tr>\n",
       "    <tr>\n",
       "      <th>Azure</th>\n",
       "      <td>287</td>\n",
       "      <td>287</td>\n",
       "      <td>284</td>\n",
       "    </tr>\n",
       "    <tr>\n",
       "      <th>GCP</th>\n",
       "      <td>0</td>\n",
       "      <td>364</td>\n",
       "      <td>355</td>\n",
       "    </tr>\n",
       "    <tr>\n",
       "      <th>Google Apps</th>\n",
       "      <td>0</td>\n",
       "      <td>1</td>\n",
       "      <td>0</td>\n",
       "    </tr>\n",
       "    <tr>\n",
       "      <th>AWS</th>\n",
       "      <td>456</td>\n",
       "      <td>331</td>\n",
       "      <td>325</td>\n",
       "    </tr>\n",
       "  </tbody>\n",
       "</table>\n",
       "</div>"
      ],
      "text/plain": [
       "             feb  mar3  mar24\n",
       "vendor                       \n",
       "               0     0      1\n",
       "Azure        287   287    284\n",
       "GCP            0   364    355\n",
       "Google Apps    0     1      0\n",
       "AWS          456   331    325"
      ]
     },
     "execution_count": 7,
     "metadata": {},
     "output_type": "execute_result"
    }
   ],
   "source": [
    "vendor_set = lambda dataset: set(dataset.vendor.value_counts().index.tolist())\n",
    "all_vendors = (vendor_set(datasets['feb'])\n",
    "               .union(vendor_set(datasets['mar3']))\n",
    "               .union(vendor_set(datasets['mar24'])))\n",
    "\n",
    "def get_vendor_count(date, vendor):\n",
    "    try:\n",
    "        return datasets[date].groupby(\"vendor\").size()[vendor]\n",
    "    except KeyError:\n",
    "        return 0\n",
    "\n",
    "data_counts = pd.DataFrame({'vendor': list(all_vendors),\n",
    "                            'feb': [get_vendor_count('feb', vd) for vd in all_vendors],\n",
    "                            'mar3': [get_vendor_count('mar3', vd) for vd in all_vendors],\n",
    "                            'mar24': [get_vendor_count('mar24', vd) for vd in all_vendors]}).set_index('vendor')\n",
    "\n",
    "data_counts"
   ]
  }
 ],
 "metadata": {
  "kernelspec": {
   "display_name": "Python 3",
   "language": "python",
   "name": "python3"
  },
  "language_info": {
   "codemirror_mode": {
    "name": "ipython",
    "version": 3
   },
   "file_extension": ".py",
   "mimetype": "text/x-python",
   "name": "python",
   "nbconvert_exporter": "python",
   "pygments_lexer": "ipython3",
   "version": "3.7.7"
  }
 },
 "nbformat": 4,
 "nbformat_minor": 4
}
