{
 "cells": [
  {
   "cell_type": "code",
   "execution_count": 1,
   "metadata": {},
   "outputs": [],
   "source": [
    "import pandas as pd\n",
    "import plotnine as p9\n",
    "import numpy as np\n",
    "from util import *\n",
    "import warnings\n",
    "warnings.filterwarnings('ignore')\n",
    "\n",
    "import matplotlib\n",
    "matplotlib.use(\"pgf\")\n",
    "matplotlib.rcParams.update({\n",
    "    \"pgf.texsystem\": \"pdflatex\",\n",
    "    'font.family': 'sans-serif',\n",
    "    'text.usetex': True,\n",
    "    'pgf.rcfonts': False,\n",
    "})"
   ]
  },
  {
   "cell_type": "code",
   "execution_count": 2,
   "metadata": {},
   "outputs": [],
   "source": [
    "scale_x_hours_as_dow = p9.scale_x_continuous(breaks=range(0,24*8, 24), minor_breaks=1, labels=['Mon', 'Tue', 'Wed', 'Thu', 'Fri', 'Sat', 'Sun', ''])\n",
    "base_theme = (p9.theme_classic(base_size=14, base_family='sans-serif')\n",
    "              + p9.theme(axis_text_y=p9.element_text(margin={'r': 5}),\n",
    "                         legend_box_spacing=0.01,\n",
    "                         legend_box_margin=0,\n",
    "                         legend_margin=0,\n",
    "                         legend_position='top',\n",
    "                         text=p9.element_text(size=14)))"
   ]
  },
  {
   "cell_type": "code",
   "execution_count": 3,
   "metadata": {},
   "outputs": [
    {
     "data": {
      "text/plain": [
       "services          object\n",
       "severity          object\n",
       "range             object\n",
       "users             object\n",
       "cause             object\n",
       "duration          object\n",
       "affected          object\n",
       "location          object\n",
       "vendor            object\n",
       "duration_min     float64\n",
       "hour_of_week       Int32\n",
       "cause_broader     object\n",
       "dtype: object"
      ]
     },
     "execution_count": 3,
     "metadata": {},
     "output_type": "execute_result"
    }
   ],
   "source": [
    "df = pd.read_parquet(\"../data/preprocessed.parquet\")\n",
    "\n",
    "# These columns are pointless to plot\n",
    "df.drop(labels=['description'], axis=1, inplace=True)\n",
    "df.dtypes"
   ]
  },
  {
   "cell_type": "code",
   "execution_count": 4,
   "metadata": {},
   "outputs": [
    {
     "name": "stdout",
     "output_type": "stream",
     "text": [
      "Not provided:\n",
      "- range: 5 events, 1.87\\%\n",
      "- services: 4 events, 1.5\\%\n",
      "- cause: 122 events, 45.69\\%\n",
      "<ggplot: (297606561)>\n"
     ]
    }
   ],
   "source": [
    "# Removing single availability zone because only applies to AWS\n",
    "# Removing AWS because not much data\n",
    "subdf = df[df.vendor != 'AWS'][['range', 'services', 'vendor', 'cause', 'cause_broader']]\n",
    "\n",
    "filt = subdf[filter_notprovided(subdf.cause) & filter_notprovided(subdf.range) & filter_notprovided(subdf.services)]\n",
    "\n",
    "plotdf = pd.DataFrame({'range_services': filt[['range', 'services']].applymap(shorten).agg(','.join, axis=1),\n",
    "                       'cause_broader': filt.cause_broader.map(shorten),\n",
    "                       'vendor': filt.vendor})\n",
    "\n",
    "cause_categs = plotdf.cause_broader.value_counts(ascending=True).index.tolist()\n",
    "\n",
    "export_graph(\"root-causes-by-severity\", subdf, ['range', 'services', 'cause'],\n",
    "             (p9.ggplot(plotdf)\n",
    "              + p9.aes(x='cause_broader', fill='vendor') \n",
    "              + p9.geom_bar()\n",
    "              + p9.scale_x_discrete(limits=cause_categs)\n",
    "              + p9.coord_flip()\n",
    "              + base_theme\n",
    "              + scheme('fill', 'lblue', 'dorange')\n",
    "              + p9.theme(figure_size=(10,5))\n",
    "              + p9.facet_grid(\"~ range_services\")\n",
    "              + p9.labs(y=\"Number of outages\", x=\"Root cause\", fill=\"Vendor\")))"
   ]
  },
  {
   "cell_type": "code",
   "execution_count": 5,
   "metadata": {},
   "outputs": [
    {
     "name": "stdout",
     "output_type": "stream",
     "text": [
      "Not provided:\n",
      "- hours: 0 events, 0.0\\%\n",
      "<ggplot: (282606813)>\n"
     ]
    }
   ],
   "source": [
    "azure_hours = df[df.vendor == \"Azure\"].hour_of_week.value_counts()\n",
    "aws_hours = df[df.vendor == \"AWS\"].hour_of_week.value_counts()\n",
    "gcp_hours = df[df.vendor == \"GCP\"].hour_of_week.value_counts()\n",
    "\n",
    "plotdf = (pd.DataFrame({'Azure': azure_hours,\n",
    "                       'GCP': gcp_hours,\n",
    "                       'AWS': aws_hours})\n",
    "          .applymap(lambda x: 0 if pd.isna(x) else x)\n",
    "          .reset_index().rename(columns={\"index\": \"hours\"}))\n",
    "\n",
    "export_graph(\"outages-across-week\", plotdf, ['hours'],\n",
    "             (p9.ggplot(plotdf.melt(id_vars='hours', var_name='vendor', value_name='outages_count'))\n",
    "              + p9.aes(x='hours', y='outages_count', color='vendor')\n",
    "              + p9.geom_step()\n",
    "              + scale_x_hours_as_dow\n",
    "              + p9.labs(x='Day of week', y='Failure count', color=\"Vendor\")\n",
    "              + p9.facet_wrap('vendor', nrow=3, ncol=1)\n",
    "              + base_theme\n",
    "              + scheme('line', 'dred', 'dblue', 'dorange')))"
   ]
  },
  {
   "cell_type": "code",
   "execution_count": 6,
   "metadata": {},
   "outputs": [
    {
     "name": "stdout",
     "output_type": "stream",
     "text": [
      "Not provided:\n",
      "- cause: 262 events, 63.75\\%\n",
      "- hour_of_week: 0 events, 0.0\\%\n",
      "<ggplot: (318334709)>\n"
     ]
    }
   ],
   "source": [
    "# Remove AWS because lack of data\n",
    "filt = df[df.vendor != 'AWS'][filter_notprovided(df.cause) & df.hour_of_week.notna() & (df.vendor != 'AWS')]\n",
    "\n",
    "def regroup_causes(cell):\n",
    "    cause = shorten(cell)\n",
    "    if cause == 'CFG':\n",
    "        return 'CONFIG'\n",
    "    elif cause == 'LOAD':\n",
    "        return cause\n",
    "    else:\n",
    "        return 'OTHER'\n",
    "    \n",
    "plotdf = pd.DataFrame({'vendor': filt.vendor,\n",
    "                       'cause': filt.cause_broader.map(regroup_causes),\n",
    "                       'hour_of_week': filt.hour_of_week})\n",
    "\n",
    "plotdf = (plotdf\n",
    "          .melt(id_vars=['vendor', 'cause'], value_name='hour_of_week')\n",
    "          .drop('variable', axis='columns')\n",
    "          .groupby(['vendor', 'cause'])\n",
    "          .hour_of_week.value_counts().reset_index(name='num_outages'))\n",
    "\n",
    "for vd in set(plotdf.vendor.values):\n",
    "    for cuz in set(plotdf[plotdf.vendor == vd].cause.values):\n",
    "        for i in range(24*7+1):\n",
    "            if len(plotdf[(plotdf.vendor == vd) & (plotdf.cause == cuz) & (plotdf.hour_of_week == i)]) == 0:\n",
    "                plotdf = plotdf.append({'vendor': vd, 'cause': cuz, 'hour_of_week': i, 'num_outages': 0}, ignore_index=True)\n",
    "\n",
    "export_graph(\"causes-across-week\", df, ['cause', 'hour_of_week'],\n",
    "             (p9.ggplot(plotdf)\n",
    "              + p9.aes(x='hour_of_week', y='num_outages', color='vendor')\n",
    "              + p9.geom_step()\n",
    "              + p9.facet_wrap('~ cause', nrow=1, ncol=3)\n",
    "              + p9.scale_y_continuous(breaks=lambda x: range(0, int(np.ceil(x[1])), 2))\n",
    "              + scale_x_hours_as_dow\n",
    "              + p9.labs(x='Day of week', y='Number of outages', color='Vendor')\n",
    "              + base_theme\n",
    "              + p9.theme(figure_size=(12,3))\n",
    "              + scheme('line', 'dblue', 'dorange')))"
   ]
  },
  {
   "cell_type": "code",
   "execution_count": 7,
   "metadata": {},
   "outputs": [
    {
     "name": "stdout",
     "output_type": "stream",
     "text": [
      "Not provided:\n",
      "- cause: 262 events, 63.75\\%\n",
      "- duration_min: 0 events, 0.0\\%\n",
      "<ggplot: (318490397)>\n"
     ]
    }
   ],
   "source": [
    "filtered = df[df.vendor != 'AWS'][filter_notprovided(df.cause) & (df.duration_min >= 0)]\n",
    "\n",
    "def group_duration(x):\n",
    "    if x/(60.0) < 6:\n",
    "        return '$<$ 6'\n",
    "    elif 6 <= x/(60.0) <= 12:\n",
    "        return '6 to 12'\n",
    "    else:\n",
    "        return '$>$ 12'\n",
    "        \n",
    "plotdf = (pd.DataFrame({'cause': filtered.cause_broader.map(shorten),\n",
    "                        'duration_min': filtered.duration_min,\n",
    "                        'duration_comp': filtered.duration_min.map(group_duration),\n",
    "                        'vendor': filtered.vendor}))\n",
    "\n",
    "normdf = plotdf.groupby(['vendor', 'duration_comp']).cause.value_counts(normalize=True).reset_index(name=\"proportion\")\n",
    "\n",
    "with open(\"../report/src/numbers/components-vs-duration-n-wrong-times.tex\", \"w\") as f:\n",
    "    f.write(\"%d\" % len(df[df.duration_min < 0]))\n",
    "\n",
    "export_graph(\"causes-vs-duration-hr-ranges\", df, ['cause', 'duration_min'],\n",
    "            (p9.ggplot(normdf)\n",
    "             + p9.aes(x='duration_comp', y='proportion', fill='cause')\n",
    "             + p9.facet_wrap('~ vendor', nrow=1)\n",
    "             + p9.geom_col()\n",
    "             + p9.labs(y=\"Proportion\", x=\"Duration (hours)\", fill=\"Root cause\")\n",
    "             + p9.scale_x_discrete(limits=['$<$ 6', '6 to 12', '$>$ 12'])\n",
    "             + p9.coord_flip()\n",
    "             + scheme('fill', 'lred', 'dpurp', 'dorange', 'lblue', 'dblue', 'lgreen', 'dred')\n",
    "             + p9.theme(figure_size=(10,3), legend_position='right')))"
   ]
  },
  {
   "cell_type": "code",
   "execution_count": 8,
   "metadata": {},
   "outputs": [
    {
     "name": "stdout",
     "output_type": "stream",
     "text": [
      "Not provided:\n",
      "- users: 1 events, 0.24\\%\n",
      "- range: 5 events, 1.22\\%\n",
      "<ggplot: (318626249)>\n"
     ]
    }
   ],
   "source": [
    "filt = df[filter_notprovided(df.users) & filter_notprovided(df.range)]\n",
    "plotdf = pd.DataFrame({'users_range': filt.users.map(shorten)+' in '+filt.range.map(shorten),\n",
    "                       'vendor': filt.vendor})\n",
    "export_graph(\"users-affected-by-vendor\", df, ['users', 'range'],\n",
    "             (p9.ggplot(plotdf)\n",
    "              + p9.aes(x='users_range', fill='vendor')\n",
    "              + p9.geom_bar()\n",
    "              + p9.labs(x='Area of effect', y='Number of outages', fill='Vendor')\n",
    "              + p9.coord_flip()\n",
    "              + scheme('fill', 'lred', 'lblue', 'dorange')\n",
    "              + base_theme))"
   ]
  },
  {
   "cell_type": "code",
   "execution_count": 11,
   "metadata": {},
   "outputs": [
    {
     "name": "stdout",
     "output_type": "stream",
     "text": [
      "Not provided:\n",
      "- users: 1 events, 0.24\\%\n",
      "- range: 5 events, 1.22\\%\n",
      "- severity: 41 events, 9.98\\%\n",
      "- duration: 41 events, 9.98\\%\n",
      "<ggplot: (318827905)>\n"
     ]
    }
   ],
   "source": [
    "filt = df[filter_notprovided(df.users) & filter_notprovided(df.range) & filter_notprovided(df.severity) & filter_notprovided(df.duration)]\n",
    "plotdf = (pd.DataFrame({'area of effect': filt.users.map(shorten)+' in '+filt.range.map(shorten),\n",
    "                       'severity and duration': (filt.duration.map(shorten)\n",
    "                                                 +': '\n",
    "                                                 +filt.severity.map(lambda x: ' \\& '.join(map(shorten, x))))})\n",
    "          .groupby(['area of effect'])\n",
    "          ['severity and duration'].value_counts(normalize=True)\n",
    "          .reset_index(name='proportion'))\n",
    "\n",
    "export_graph(\"severity-vs-users-affected\", df, ['users', 'range', 'severity', 'duration'],\n",
    "             (p9.ggplot(plotdf)\n",
    "              + p9.aes(x='area of effect', y='proportion', fill='severity and duration')\n",
    "              + p9.labs(x='Area of effect', y='Proportion', fill='Severity and duration')\n",
    "              + p9.coord_flip()\n",
    "              + p9.geom_col()\n",
    "              + scheme('fill', 'dblue', 'dred', 'blackish', 'dpurp', 'lgreen', 'lorange', 'lred')\n",
    "              + p9.theme(legend_position='right')))"
   ]
  },
  {
   "cell_type": "code",
   "execution_count": 12,
   "metadata": {},
   "outputs": [
    {
     "name": "stdout",
     "output_type": "stream",
     "text": [
      "Not provided:\n",
      "- cause: 262 events, 63.75\\%\n",
      "- range: 5 events, 1.22\\%\n",
      "- users: 1 events, 0.24\\%\n",
      "<ggplot: (318821893)>\n"
     ]
    }
   ],
   "source": [
    "filt = df[filter_notprovided(df.cause) & filter_notprovided(df.range) & filter_notprovided(df.users)]\n",
    "plotdf = (pd.DataFrame({'cause': filt.cause_broader.map(shorten), \n",
    "                       'range_users': filt.users.map(shorten)+' in '+filt.range.map(shorten)})\n",
    "          .groupby('range_users')\n",
    "          .cause.value_counts(normalize=True)\n",
    "          .reset_index(name='proportion'))\n",
    "\n",
    "export_graph(\"range-users-vs-root-cause\", df, ['cause', 'range', 'users'],\n",
    "             (p9.ggplot(plotdf)\n",
    "              + p9.aes(x='range_users', y='proportion',  fill='cause')\n",
    "              + p9.geom_col()\n",
    "              + p9.scale_y_continuous(minor_breaks=4)\n",
    "              + p9.coord_flip()\n",
    "              + base_theme\n",
    "              + scheme('fill', 'lblue', 'dpurp', 'dorange', 'lred', 'dblue', 'lgreen', 'dred')\n",
    "              + p9.theme(legend_position='right')\n",
    "              + p9.labs(x='Area of effect', y='Proportion', fill='Root cause')))"
   ]
  },
  {
   "cell_type": "code",
   "execution_count": 13,
   "metadata": {},
   "outputs": [],
   "source": [
    "filt = df[filter_notprovided(df.severity) & filter_notprovided(df.range) & filter_notprovided(df.users) & filter_notprovided(df.duration)\n",
    "          & filter_notprovided(df.affected) & filter_notprovided(df.cause)]\n",
    "corrdf = pd.DataFrame({'severity': filt.severity.map(lambda x: ','.join(map(shorten, x))),\n",
    "              'range': filt.range.map(shorten),\n",
    "              'users': filt.users.map(shorten),\n",
    "              'duration': filt.duration.map(shorten),\n",
    "              'affected': filt.affected.map(lambda x: ','.join(map(shorten, x))),\n",
    "              'cause': filt.cause.map(shorten)})\n",
    "matplotlib.use(\"svg\")\n",
    "matplotlib.rcdefaults()"
   ]
  },
  {
   "cell_type": "code",
   "execution_count": 14,
   "metadata": {},
   "outputs": [
    {
     "name": "stdout",
     "output_type": "stream",
     "text": [
      "Not provided:\n",
      "- severity: 41 events, 9.98\\%\n",
      "- range: 5 events, 1.22\\%\n",
      "- users: 1 events, 0.24\\%\n",
      "- duration: 41 events, 9.98\\%\n",
      "- affected: 45 events, 10.95\\%\n",
      "- cause: 262 events, 63.75\\%\n",
      "<ggplot: (318483869)>\n"
     ]
    }
   ],
   "source": [
    "def cramers_v(x, y):\n",
    "    import scipy.stats as ss\n",
    "    confusion_matrix = pd.crosstab(x,y)\n",
    "    chi2 = ss.chi2_contingency(confusion_matrix)[0]\n",
    "    n = confusion_matrix.sum().sum()\n",
    "    phi2 = chi2/n\n",
    "    r,k = confusion_matrix.shape\n",
    "    phi2corr = max(0, phi2-((k-1)*(r-1))/(n-1))\n",
    "    rcorr = r-((r-1)**2)/(n-1)\n",
    "    kcorr = k-((k-1)**2)/(n-1)\n",
    "    return np.sqrt(phi2corr/min((kcorr-1),(rcorr-1)))\n",
    "\n",
    "def compute_cramers_v_matrix(df, index, columns):\n",
    "    cramersv = pd.DataFrame(index=index, columns=columns)\n",
    "    for i in range(0, len(columns)):\n",
    "        for j in range(0,len(columns)):\n",
    "            v = cramers_v(df[columns[i]],df[columns[j]])\n",
    "            cramersv.loc[columns[i],columns[j]] = v\n",
    "            cramersv.loc[columns[j],columns[i]] = v\n",
    "    cramersv.fillna(value=np.nan,inplace=True)\n",
    "    return cramersv\n",
    "\n",
    "export_graph(\"cramers-v\", df, ['severity', 'range', 'users', 'duration', 'affected', 'cause'],\n",
    "             (p9.ggplot(corrdf.pipe(compute_cramers_v_matrix, index=corrdf.columns, columns=corrdf.columns)\n",
    "                        .stack()\n",
    "                        .reset_index(name='correlation')\n",
    "                        .rename(columns={'level_0': 'x', 'level_1': 'y'}))\n",
    "              + p9.aes(x='x', y='y', fill='correlation', label='round(correlation, 2)')\n",
    "              + p9.scale_fill_gradient(low='white', high='#a6b1e1')\n",
    "              + p9.geom_tile()\n",
    "              + p9.geom_text()\n",
    "              + base_theme\n",
    "              + p9.theme(legend_position='right')\n",
    "              + p9.labs(x='Features', y='Features', fill=\"Correlation\")))"
   ]
  },
  {
   "cell_type": "code",
   "execution_count": 15,
   "metadata": {},
   "outputs": [
    {
     "name": "stdout",
     "output_type": "stream",
     "text": [
      "Not provided:\n",
      "- severity: 41 events, 9.98\\%\n",
      "- range: 5 events, 1.22\\%\n",
      "- users: 1 events, 0.24\\%\n",
      "- duration: 41 events, 9.98\\%\n",
      "- affected: 45 events, 10.95\\%\n",
      "- cause: 262 events, 63.75\\%\n",
      "<ggplot: (317907265)>\n"
     ]
    }
   ],
   "source": [
    "# https://towardsdatascience.com/the-search-for-categorical-correlation-a1cf7f1888c9\n",
    "# https://datascience.stackexchange.com/questions/26444/is-there-an-asymmetric-version-of-nominal-correlation\n",
    "# https://www.kaggle.com/shakedzy/alone-in-the-woods-using-theil-s-u-for-survival\n",
    "def theils_u(x,y):\n",
    "    from collections import Counter\n",
    "    import scipy.stats as ss\n",
    "    def conditional_entropy(x,y):\n",
    "        # entropy of x given y\n",
    "        import math\n",
    "        y_counter = Counter(y)\n",
    "        xy_counter = Counter(list(zip(x,y)))\n",
    "        total_occurrences = sum(y_counter.values())\n",
    "        entropy = 0\n",
    "        for xy in xy_counter.keys():\n",
    "            p_xy = xy_counter[xy] / total_occurrences\n",
    "            p_y = y_counter[xy[1]] / total_occurrences\n",
    "            entropy += p_xy * math.log(p_y/p_xy)\n",
    "        return entropy\n",
    "    \n",
    "    s_xy = conditional_entropy(x,y)\n",
    "    x_counter = Counter(x)\n",
    "    total_occurrences = sum(x_counter.values())\n",
    "    p_x = list(map(lambda n: n/total_occurrences, x_counter.values()))\n",
    "    s_x = ss.entropy(p_x)\n",
    "    if s_x == 0:\n",
    "        return 1\n",
    "    else:\n",
    "        return (s_x - s_xy) / s_x\n",
    "\n",
    "def compute_theils_u_matrix(df, index, columns):\n",
    "    theilsu = pd.DataFrame(index=index, columns=columns)\n",
    "    for i in range(0, len(columns)):\n",
    "        for j in range(0,len(columns)):\n",
    "            u = theils_u(df[columns[i]].tolist(),df[columns[j]].tolist())\n",
    "            theilsu.loc[columns[i],columns[j]] = u\n",
    "    theilsu.fillna(value=np.nan,inplace=True)\n",
    "    return theilsu\n",
    "\n",
    "export_graph(\"theils-u\", df, ['severity', 'range', 'users', 'duration', 'affected', 'cause'],\n",
    "             (p9.ggplot(corrdf.pipe(compute_theils_u_matrix, corrdf.columns, corrdf.columns)\n",
    "                        .stack()\n",
    "                        .reset_index(name='correlation')\n",
    "                        .rename(columns={'level_0': 'x', 'level_1': 'y'}))\n",
    "              + p9.aes(x='x', y='y', fill='correlation', label='round(correlation, 2)')\n",
    "              + p9.geom_tile()\n",
    "              + p9.geom_text()\n",
    "              + p9.scale_fill_gradient(low='white', high='#a6b1e1', limits=(0,1))\n",
    "              + base_theme\n",
    "              + p9.theme(legend_position='right')\n",
    "              + p9.labs(x='Features', y='Features', fill='Coefficient')))"
   ]
  },
  {
   "cell_type": "markdown",
   "metadata": {},
   "source": [
    "# Unused plots (for now)"
   ]
  },
  {
   "cell_type": "code",
   "execution_count": null,
   "metadata": {},
   "outputs": [],
   "source": [
    "filt = df[filter_notprovided(df.affected) & df.hour_of_week.notna()]\n",
    "\n",
    "plotdf = pd.DataFrame({'vendor': filt.vendor,\n",
    "                       'affected': filt.affected.map(lambda x: ','.join(map(shorten, x))),\n",
    "                       'hour_of_week': filt.hour_of_week})\n",
    "top_5_affected = plotdf.affected.value_counts()[0:5].index\n",
    "\n",
    "plotdf = (plotdf[plotdf.affected.isin(top_5_affected)]\n",
    "          .melt(id_vars=['vendor', 'affected'], value_name='hour_of_week')\n",
    "          .drop('variable', axis='columns')\n",
    "          .groupby(['vendor', 'affected'])\n",
    "          .hour_of_week.value_counts().reset_index(name='num_outages'))\n",
    "\n",
    "for vd in set(plotdf.vendor.values):\n",
    "    for af in set(plotdf[plotdf.vendor == vd].affected.values):\n",
    "        for i in range(24*7+1):\n",
    "            if len(plotdf[(plotdf.vendor == vd) & (plotdf.affected == af) & (plotdf.hour_of_week == i)]) == 0:\n",
    "                plotdf = plotdf.append({'vendor': vd, 'affected': af, 'hour_of_week': i, 'num_outages': 0}, ignore_index=True)\n",
    "\n",
    "#export_graph(\"components-across-week\", df, ['affected', 'hour_of_week'],\n",
    "plot = (p9.ggplot(plotdf)\n",
    "+ p9.aes(x='hour_of_week', y='num_outages', color='vendor')\n",
    "+ p9.geom_line()\n",
    "+ p9.facet_wrap('~ affected')\n",
    "+ p9.scale_y_continuous(breaks=lambda x: range(0, int(np.ceil(x[1])), 2))\n",
    "+ scale_x_hours_as_dow\n",
    "+ p9.labs(x='day of week', y='number of outages')\n",
    "+ p9.theme(figure_size=(13,7))\n",
    "+ disc_colorpalette\n",
    "+ p9.ggtitle(\"Outages across the week, for top 5 affected components\"))"
   ]
  },
  {
   "cell_type": "code",
   "execution_count": null,
   "metadata": {},
   "outputs": [],
   "source": [
    "# Removing single availability zone because only applies to AWS\n",
    "subdf = df[['range', 'services', 'vendor', 'affected']]\n",
    "\n",
    "filt = subdf[filter_notprovided(subdf.affected) & filter_notprovided(subdf.range) & filter_notprovided(subdf.services)]\n",
    "\n",
    "plotdf = pd.DataFrame({'range_services': filt[['range', 'services']].applymap(shorten).agg(','.join, axis=1),\n",
    "                       'affected': filt.affected.map(lambda x: ','.join(map(shorten, x))),\n",
    "                       'vendor': filt.vendor})\n",
    "\n",
    "# export_graph(\"components-by-severity\", subdf, ['range', 'services', 'affected'],\n",
    "plot = (p9.ggplot(plotdf)\n",
    "+ p9.aes(x='affected', fill='vendor') \n",
    "+ p9.geom_bar()\n",
    "+ p9.coord_flip()\n",
    "+ p9.theme(figure_size=(10,5))\n",
    "+ disc_fillpalette\n",
    "+ p9.facet_grid(\"~ range_services\")\n",
    "+ p9.labs(y=\"number of outages\", x=\"affected component\")\n",
    "+ p9.ggtitle(\"Components affected in outages of varying severity\"))"
   ]
  }
 ],
 "metadata": {
  "kernelspec": {
   "display_name": "Python 3",
   "language": "python",
   "name": "python3"
  },
  "language_info": {
   "codemirror_mode": {
    "name": "ipython",
    "version": 3
   },
   "file_extension": ".py",
   "mimetype": "text/x-python",
   "name": "python",
   "nbconvert_exporter": "python",
   "pygments_lexer": "ipython3",
   "version": "3.7.7"
  }
 },
 "nbformat": 4,
 "nbformat_minor": 4
}
